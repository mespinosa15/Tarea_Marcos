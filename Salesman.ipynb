{
 "cells": [
  {
   "cell_type": "code",
   "execution_count": 33,
   "metadata": {},
   "outputs": [
    {
     "data": {
      "text/latex": [
       "$$ \\begin{alignat*}{1}\\min\\quad & 0.21850231635653317 x_{1,1} + 0.12267131894927408 x_{2,1} + 0.2264444573107287 x_{3,1} + 0.21858355455612144 x_{4,1} + 0.5350003644534918 x_{5,1} + 0.3088098643856103 x_{1,2} + 0.5275223509457463 x_{2,2} + 0.3026147148800262 x_{3,2} + 0.7127721757568437 x_{4,2} + 0.6637286472276227 x_{5,2} + 0.8790100722668921 x_{1,3} + 0.5504968086043607 x_{2,3} + 0.6093276787565254 x_{3,3} + 0.8808003382526997 x_{4,3} + 0.423619443990098 x_{5,3} + 0.9091449311195159 x_{1,4} + 0.8499573693945104 x_{2,4} + 0.7590150793665464 x_{3,4} + 0.33814420294196545 x_{4,4} + 0.33131799648198634 x_{5,4} + 0.9265004696024381 x_{1,5} + 0.1993632912407053 x_{2,5} + 0.09025197921230466 x_{3,5} + 0.04275797068070197 x_{4,5} + 0.6719021840371862 x_{5,5}\\\\\n",
       "\\text{Subject to} \\quad & x_{1,1} binary\\\\\n",
       " & x_{1,2} binary\\\\\n",
       " & x_{1,3} binary\\\\\n",
       " & x_{1,4} binary\\\\\n",
       " & x_{1,5} binary\\\\\n",
       " & x_{2,1} binary\\\\\n",
       " & x_{2,2} binary\\\\\n",
       " & x_{2,3} binary\\\\\n",
       " & x_{2,4} binary\\\\\n",
       " & x_{2,5} binary\\\\\n",
       " & x_{3,1} binary\\\\\n",
       " & x_{3,2} binary\\\\\n",
       " & x_{3,3} binary\\\\\n",
       " & x_{3,4} binary\\\\\n",
       " & x_{3,5} binary\\\\\n",
       " & x_{4,1} binary\\\\\n",
       " & x_{4,2} binary\\\\\n",
       " & x_{4,3} binary\\\\\n",
       " & x_{4,4} binary\\\\\n",
       " & x_{4,5} binary\\\\\n",
       " & x_{5,1} binary\\\\\n",
       " & x_{5,2} binary\\\\\n",
       " & x_{5,3} binary\\\\\n",
       " & x_{5,4} binary\\\\\n",
       " & x_{5,5} binary\\\\\n",
       " & x_{1,1} + x_{1,2} + x_{1,3} + x_{1,4} + x_{1,5} = 1.0\\\\\n",
       " & x_{1,1} + x_{2,1} + x_{3,1} + x_{4,1} + x_{5,1} = 1.0\\\\\n",
       " & x_{2,1} + x_{2,2} + x_{2,3} + x_{2,4} + x_{2,5} = 1.0\\\\\n",
       " & x_{1,2} + x_{2,2} + x_{3,2} + x_{4,2} + x_{5,2} = 1.0\\\\\n",
       " & x_{3,1} + x_{3,2} + x_{3,3} + x_{3,4} + x_{3,5} = 1.0\\\\\n",
       " & x_{1,3} + x_{2,3} + x_{3,3} + x_{4,3} + x_{5,3} = 1.0\\\\\n",
       " & x_{4,1} + x_{4,2} + x_{4,3} + x_{4,4} + x_{4,5} = 1.0\\\\\n",
       " & x_{1,4} + x_{2,4} + x_{3,4} + x_{4,4} + x_{5,4} = 1.0\\\\\n",
       " & x_{5,1} + x_{5,2} + x_{5,3} + x_{5,4} + x_{5,5} = 1.0\\\\\n",
       " & x_{1,5} + x_{2,5} + x_{3,5} + x_{4,5} + x_{5,5} = 1.0\\\\\n",
       " & -5 x_{1,2} \\geq -5.0\\\\\n",
       " & -5 x_{1,3} \\geq -6.0\\\\\n",
       " & -5 x_{1,4} \\geq -7.0\\\\\n",
       " & -5 x_{1,5} \\geq -8.0\\\\\n",
       " & -5 x_{2,3} \\geq -5.0\\\\\n",
       " & -5 x_{2,4} \\geq -6.0\\\\\n",
       " & -5 x_{2,5} \\geq -7.0\\\\\n",
       " & -5 x_{3,2} \\geq -3.0\\\\\n",
       " & -5 x_{3,4} \\geq -5.0\\\\\n",
       " & -5 x_{3,5} \\geq -6.0\\\\\n",
       " & -5 x_{4,2} \\geq -2.0\\\\\n",
       " & -5 x_{4,3} \\geq -3.0\\\\\n",
       " & -5 x_{4,5} \\geq -5.0\\\\\n",
       " & -5 x_{5,2} \\geq -1.0\\\\\n",
       " & -5 x_{5,3} \\geq -2.0\\\\\n",
       " & -5 x_{5,4} \\geq -3.0\\\\\n",
       "\\end{alignat*}\n",
       " $$"
      ],
      "text/plain": [
       "A JuMP Model\n",
       "Minimization problem with:\n",
       "Variables: 25\n",
       "Objective function type: JuMP.GenericAffExpr{Float64,JuMP.VariableRef}\n",
       "`JuMP.VariableRef`-in-`MathOptInterface.ZeroOne`: 25 constraints\n",
       "`JuMP.GenericAffExpr{Float64,JuMP.VariableRef}`-in-`MathOptInterface.EqualTo{Float64}`: 10 constraints\n",
       "`JuMP.GenericAffExpr{Float64,JuMP.VariableRef}`-in-`MathOptInterface.GreaterThan{Float64}`: 16 constraints\n",
       "Model mode: AUTOMATIC\n",
       "CachingOptimizer state: EMPTY_OPTIMIZER\n",
       "Solver name: GLPK\n",
       "Names registered in the model: x"
      ]
     },
     "execution_count": 33,
     "metadata": {},
     "output_type": "execute_result"
    }
   ],
   "source": [
    "import JuMP, GLPK, Test\n",
    "const MOI = JuMP.MathOptInterface\n",
    "\n",
    "model = JuMP.Model(JuMP.with_optimizer(GLPK.Optimizer))\n",
    "m=5\n",
    "C = rand(m,m)\n",
    "t=zeros(m)\n",
    "for k in 1:m\n",
    "    t[k] = k-1\n",
    "end\n",
    "JuMP.@variable(model, x[1:m,1:m], Bin)\n",
    "# Objective: minimize total distance\n",
    "JuMP.@objective(model, Min, sum(C' .* x))\n",
    "# Constraint: one to one\n",
    "for i in 1:m\n",
    "    JuMP.@constraint(model,sum(x[i, :]) == 1)\n",
    "    JuMP.@constraint(model,sum(x[:, i]) == 1)\n",
    "end\n",
    "# Constraint: graph conectivity\n",
    "for i in 1:m\n",
    "    for j in 2:m\n",
    "    if i != j \n",
    "        JuMP.@constraint(model, t[j] >= t[i] + 1.0 - m*(1.0-x[i,j]))\n",
    "    end\n",
    "    end\n",
    "end\n",
    "model"
   ]
  },
  {
   "cell_type": "code",
   "execution_count": 34,
   "metadata": {},
   "outputs": [
    {
     "name": "stdout",
     "output_type": "stream",
     "text": [
      "Objective is: 1.8227032195977328\n",
      "Solution is:\n",
      "\n",
      "0.0 1.0 0.0 0.0 0.0 \n",
      "0.0 0.0 1.0 0.0 0.0 \n",
      "0.0 0.0 0.0 0.0 1.0 \n",
      "0.0 0.0 0.0 1.0 0.0 \n",
      "1.0 0.0 0.0 0.0 0.0 "
     ]
    }
   ],
   "source": [
    "JuMP.optimize!(model)\n",
    "\n",
    "println(\"Objective is: \", JuMP.objective_value(model))\n",
    "println(\"Solution is:\")\n",
    "for i in 1:m \n",
    "    println()\n",
    "    for j in 1:m\n",
    "        print(JuMP.value(x[i,j]), \" \")\n",
    "    end\n",
    "end"
   ]
  },
  {
   "cell_type": "code",
   "execution_count": null,
   "metadata": {},
   "outputs": [],
   "source": []
  }
 ],
 "metadata": {
  "kernelspec": {
   "display_name": "Julia 1.1.0",
   "language": "julia",
   "name": "julia-1.1"
  },
  "language_info": {
   "name": ""
  }
 },
 "nbformat": 4,
 "nbformat_minor": 2
}
