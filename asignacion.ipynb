{
 "cells": [
  {
   "cell_type": "code",
   "execution_count": 27,
   "metadata": {},
   "outputs": [
    {
     "data": {
      "text/latex": [
       "$$ \\begin{alignat*}{1}\\min\\quad & 0.35760677590153267 x_{1,1} + 0.8342302037710196 x_{2,1} + 0.10730887387197408 x_{3,1} + 0.306344529517969 x_{4,1} + 0.9838770081350716 x_{5,1} + 0.07982785951955762 x_{1,2} + 0.7282099248249903 x_{2,2} + 0.8888768676361283 x_{3,2} + 0.2169923921327428 x_{4,2} + 0.09681908338475664 x_{5,2} + 0.7764715377105098 x_{1,3} + 0.7921595079520878 x_{2,3} + 0.49368901772520357 x_{3,3} + 0.3538649445361015 x_{4,3} + 0.4167211226385117 x_{5,3} + 0.8044103101412197 x_{1,4} + 0.5774826700764293 x_{2,4} + 0.5001397275857744 x_{3,4} + 0.05181989107326701 x_{4,4} + 0.780609219547699 x_{5,4} + 0.5065055317203919 x_{1,5} + 0.38290490773255526 x_{2,5} + 0.24247216281337325 x_{3,5} + 0.8597906253891991 x_{4,5} + 0.5979303339375388 x_{5,5}\\\\\n",
       "\\text{Subject to} \\quad & x_{1,1} binary\\\\\n",
       " & x_{1,2} binary\\\\\n",
       " & x_{1,3} binary\\\\\n",
       " & x_{1,4} binary\\\\\n",
       " & x_{1,5} binary\\\\\n",
       " & x_{2,1} binary\\\\\n",
       " & x_{2,2} binary\\\\\n",
       " & x_{2,3} binary\\\\\n",
       " & x_{2,4} binary\\\\\n",
       " & x_{2,5} binary\\\\\n",
       " & x_{3,1} binary\\\\\n",
       " & x_{3,2} binary\\\\\n",
       " & x_{3,3} binary\\\\\n",
       " & x_{3,4} binary\\\\\n",
       " & x_{3,5} binary\\\\\n",
       " & x_{4,1} binary\\\\\n",
       " & x_{4,2} binary\\\\\n",
       " & x_{4,3} binary\\\\\n",
       " & x_{4,4} binary\\\\\n",
       " & x_{4,5} binary\\\\\n",
       " & x_{5,1} binary\\\\\n",
       " & x_{5,2} binary\\\\\n",
       " & x_{5,3} binary\\\\\n",
       " & x_{5,4} binary\\\\\n",
       " & x_{5,5} binary\\\\\n",
       " & x_{1,1} + x_{1,2} + x_{1,3} + x_{1,4} + x_{1,5} = 1.0\\\\\n",
       " & x_{1,1} + x_{2,1} + x_{3,1} + x_{4,1} + x_{5,1} = 1.0\\\\\n",
       " & x_{2,1} + x_{2,2} + x_{2,3} + x_{2,4} + x_{2,5} = 1.0\\\\\n",
       " & x_{1,2} + x_{2,2} + x_{3,2} + x_{4,2} + x_{5,2} = 1.0\\\\\n",
       " & x_{3,1} + x_{3,2} + x_{3,3} + x_{3,4} + x_{3,5} = 1.0\\\\\n",
       " & x_{1,3} + x_{2,3} + x_{3,3} + x_{4,3} + x_{5,3} = 1.0\\\\\n",
       " & x_{4,1} + x_{4,2} + x_{4,3} + x_{4,4} + x_{4,5} = 1.0\\\\\n",
       " & x_{1,4} + x_{2,4} + x_{3,4} + x_{4,4} + x_{5,4} = 1.0\\\\\n",
       " & x_{5,1} + x_{5,2} + x_{5,3} + x_{5,4} + x_{5,5} = 1.0\\\\\n",
       " & x_{1,5} + x_{2,5} + x_{3,5} + x_{4,5} + x_{5,5} = 1.0\\\\\n",
       "\\end{alignat*}\n",
       " $$"
      ],
      "text/plain": [
       "A JuMP Model\n",
       "Minimization problem with:\n",
       "Variables: 25\n",
       "Objective function type: JuMP.GenericAffExpr{Float64,JuMP.VariableRef}\n",
       "`JuMP.VariableRef`-in-`MathOptInterface.ZeroOne`: 25 constraints\n",
       "`JuMP.GenericAffExpr{Float64,JuMP.VariableRef}`-in-`MathOptInterface.EqualTo{Float64}`: 10 constraints\n",
       "Model mode: AUTOMATIC\n",
       "CachingOptimizer state: EMPTY_OPTIMIZER\n",
       "Solver name: GLPK\n",
       "Names registered in the model: x"
      ]
     },
     "execution_count": 27,
     "metadata": {},
     "output_type": "execute_result"
    }
   ],
   "source": [
    "import JuMP, GLPK, Test\n",
    "const MOI = JuMP.MathOptInterface\n",
    "\n",
    "model = JuMP.Model(JuMP.with_optimizer(GLPK.Optimizer))\n",
    "m=5\n",
    "C = rand(m,m)\n",
    "JuMP.@variable(model, x[1:m,1:m], Bin)\n",
    "# Objective: minimize cost\n",
    "JuMP.@objective(model, Min, sum(C' .* x))\n",
    "# Constraint: one to one\n",
    "for i in 1:m\n",
    "    JuMP.@constraint(model,sum(x[i, :]) == 1)\n",
    "    JuMP.@constraint(model,sum(x[:, i]) == 1)\n",
    "end\n",
    "\n",
    "model"
   ]
  },
  {
   "cell_type": "code",
   "execution_count": 33,
   "metadata": {},
   "outputs": [
    {
     "name": "stdout",
     "output_type": "stream",
     "text": [
      "Objective is: 1.0385826548358656\n",
      "Solution is:\n",
      "\n",
      "0.0 1.0 0.0 0.0 0.0 \n",
      "0.0 0.0 0.0 0.0 1.0 \n",
      "1.0 0.0 0.0 0.0 0.0 \n",
      "0.0 0.0 0.0 1.0 0.0 \n",
      "0.0 0.0 1.0 0.0 0.0 "
     ]
    }
   ],
   "source": [
    "JuMP.optimize!(model)\n",
    "\n",
    "println(\"Objective is: \", JuMP.objective_value(model))\n",
    "println(\"Solution is:\")\n",
    "for i in 1:m \n",
    "    println()\n",
    "    for j in 1:m\n",
    "        print(JuMP.value(x[i,j]), \" \")\n",
    "    end\n",
    "end"
   ]
  },
  {
   "cell_type": "code",
   "execution_count": null,
   "metadata": {},
   "outputs": [],
   "source": []
  }
 ],
 "metadata": {
  "kernelspec": {
   "display_name": "Julia 1.1.0",
   "language": "julia",
   "name": "julia-1.1"
  },
  "language_info": {
   "file_extension": ".jl",
   "mimetype": "application/julia",
   "name": "julia",
   "version": "1.1.0"
  }
 },
 "nbformat": 4,
 "nbformat_minor": 2
}
